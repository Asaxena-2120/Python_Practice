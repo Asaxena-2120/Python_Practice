{
 "cells": [
  {
   "cell_type": "markdown",
   "metadata": {},
   "source": [
    "##### Date 09/30/2020: Given an array of integers, return the indices of the two numbers such that they add upto a specified target."
   ]
  },
  {
   "cell_type": "code",
   "execution_count": 2,
   "metadata": {},
   "outputs": [
    {
     "name": "stdout",
     "output_type": "stream",
     "text": [
      "number of elements in an array: 3\n",
      "1\n",
      "2\n",
      "3\n",
      "What is the target: 4\n",
      "array,target= [1, 2, 3] , 4\n",
      "required indices are:  [0, 2]\n"
     ]
    }
   ],
   "source": [
    "def solve(arr,target):\n",
    "    result=[]\n",
    "    print(\"array,target=\",arr,\",\",target)\n",
    "    \n",
    "    length=len(arr)\n",
    "    for i in range(length):\n",
    "        for j in range(i+1,length):\n",
    "            if arr[i]+arr[j]==target:\n",
    "                result.append(i)\n",
    "                result.append(j)\n",
    "                return result\n",
    "            \n",
    "                \n",
    "    return result\n",
    "    \n",
    "if __name__ == \"__main__\":\n",
    "    n=int(input(\"number of elements in an array: \"))\n",
    "    arr=[]\n",
    "    for i in range(0,n):\n",
    "        num = int(input())\n",
    "        arr.append(num)\n",
    "    target=int(input(\"What is the target: \"))\n",
    "    answer=solve(arr,target)\n",
    "    if not answer:\n",
    "        print(\"no match found\")\n",
    "    else:\n",
    "        print(\"required indices are: \",answer)"
   ]
  },
  {
   "cell_type": "markdown",
   "metadata": {},
   "source": [
    "##### Date 10/01/2020: class to convert java variable syntax to C++ and visa versa\n",
    "java syntax = thisIsVariable\n",
    "\n",
    "C++ syntax = this_is_variable"
   ]
  },
  {
   "cell_type": "code",
   "execution_count": 39,
   "metadata": {},
   "outputs": [
    {
     "name": "stdout",
     "output_type": "stream",
     "text": [
      "Provide a in C++ or Java variable name: \n",
      "invalid input\n"
     ]
    }
   ],
   "source": [
    "class Convert:\n",
    "    def __init__(self,syntax):\n",
    "        self.syntax=syntax\n",
    "        \n",
    "    def convert(self):\n",
    "        s=self.syntax\n",
    "        answer=\"\"\n",
    "        if s!=s.lower() and s!=s.upper() and '_' not in s:# it is java variable syntax\n",
    "            i=0\n",
    "            while i<len(s):\n",
    "                if s[i].isupper():\n",
    "                    answer+='_'\n",
    "                    answer+=s[i].lower()\n",
    "                    i+=1\n",
    "                else:\n",
    "                    answer+=s[i]\n",
    "                    i+=1\n",
    "            print(\"converted C++ syntax\",answer) \n",
    "        elif s==s.lower() and '_' in s: #it is a c++ variable syntax  \n",
    "            i=0\n",
    "            while i<len(s):\n",
    "                if s[i]=='_':\n",
    "                    answer+=s[i+1].upper()\n",
    "                    i=i+2\n",
    "                else:\n",
    "                    answer+=s[i]\n",
    "                    i=i+1\n",
    "            print(\"converted Java syntax\",answer)     \n",
    "        else:\n",
    "            print(\"invalid input\")\n",
    "        \n",
    "if __name__==\"__main__\":\n",
    "    var=input(\"Provide a in C++ or Java variable name: \")\n",
    "    c = Convert(var)\n",
    "    c.convert()"
   ]
  },
  {
   "cell_type": "markdown",
   "metadata": {},
   "source": [
    "##### Date 10/02/2020: Given an array of integers having only 0s, 1s and 2s. Write a program to sort the array.\n",
    "Input : [2,2,1,0,1,0,0,2]\n",
    "Output : [0,0,0,1,1,2,2,2]\n"
   ]
  },
  {
   "cell_type": "code",
   "execution_count": 32,
   "metadata": {},
   "outputs": [
    {
     "name": "stdout",
     "output_type": "stream",
     "text": [
      "[0, 0, 0, 1, 1, 2, 2, 2]\n",
      "[0, 0, 0, 1, 1, 2, 2, 2]\n",
      "[0, 1, 2]\n",
      "[0, 1, 2]\n"
     ]
    }
   ],
   "source": [
    "def sort_three(arr):\n",
    "    #time complexity - O(N)\n",
    "    #space complexity - O(N)\n",
    "    answer=[]\n",
    "    count0=0\n",
    "    count1=0\n",
    "    count2=0\n",
    "    if arr:\n",
    "        \n",
    "        for num in arr:\n",
    "            if num ==2:\n",
    "                count2+=1\n",
    "            elif num ==1:\n",
    "                count1+=1\n",
    "            else:\n",
    "                count0+=1\n",
    "    \n",
    "    for i in range(count0):\n",
    "        answer.append(0)\n",
    "    for j in range(count1):\n",
    "        answer.append(1)\n",
    "    for k in range(count2):\n",
    "        answer.append(2)        \n",
    "\n",
    "    return answer\n",
    "\n",
    "def sort_inline(arr):\n",
    "    #time complexity - O(N^2)\n",
    "    #space complexity - O(1)\n",
    "  \n",
    "    for i in range(len(arr)):                  # 0 to len(arr)\n",
    "        for j in range(i+1, len(arr)):         #i+1 to len(arr)\n",
    "            if arr[i]>arr[j]:                  #swap\n",
    "                arr[i],arr[j]=arr[j],arr[i]\n",
    "    return arr\n",
    "            \n",
    "if __name__==\"__main__\":\n",
    "    tests=[[2,2,1,0,1,0,0,2],\n",
    "           [0,2,1]]\n",
    "    for test in tests:\n",
    "        print(sort_three(test))\n",
    "        print(sort_inline(test))\n",
    "     \n",
    "  "
   ]
  },
  {
   "cell_type": "code",
   "execution_count": null,
   "metadata": {},
   "outputs": [],
   "source": []
  },
  {
   "cell_type": "markdown",
   "metadata": {},
   "source": [
    "##### Date 10/03/2020: Print the array in following order(using recursion only):\n",
    "-> First print all elements which are at even index\n",
    "-> Then print all remaining elements (at odd indices) in reverse order\n",
    "\n",
    "Eg:\n",
    "Input:[0,1,2,3,4,5]\n",
    "Output:0 2 4 5 3 1\n",
    "\n",
    "Input: [9,8,7,6,5,4]\n",
    "Output: 9 7 5 4 6 8"
   ]
  },
  {
   "cell_type": "code",
   "execution_count": 33,
   "metadata": {},
   "outputs": [
    {
     "name": "stdout",
     "output_type": "stream",
     "text": [
      "input  [9, 8, 7, 6, 5, 4]\n",
      "output [9, 7, 5, 4, 6, 8]\n"
     ]
    }
   ],
   "source": [
    "def recursion(arr,i,j,index,answer):\n",
    "    while None in answer:    \n",
    "        if index <= len(arr) :\n",
    "            if index%2==0:              #even index\n",
    "                answer[i]=arr[index]\n",
    "                i=i+1\n",
    "            else:\n",
    "                answer[j]=arr[index]    #odd index\n",
    "                j=j-1\n",
    "                \n",
    "        index=index+1\n",
    "        recursion(arr,i,j,index,answer)\n",
    "        \n",
    "    return answer\n",
    "if __name__==\"__main__\":\n",
    "    arr=[9,8,7,6,5,4]\n",
    "    print(\"input \",arr)\n",
    "    i=0\n",
    "    index=0\n",
    "    j=len(arr)-1\n",
    "    answer=[None]*len(arr)         #[None, None, None, None, None, None]\n",
    "    print(\"output\" ,recursion(arr,i,j,index,answer))\n"
   ]
  },
  {
   "cell_type": "code",
   "execution_count": 15,
   "metadata": {},
   "outputs": [
    {
     "name": "stdout",
     "output_type": "stream",
     "text": [
      "input  [9, 8, 7, 6, 5, 4]\n",
      "9 7 5 4 6 8 "
     ]
    }
   ],
   "source": [
    "def recursion(arr,current):\n",
    "    if current == len(arr):\n",
    "        return\n",
    "    if current % 2 ==0:\n",
    "        print(arr[current],end=\" \")\n",
    "    recursion(arr,current+1)\n",
    "    if current % 2 ==1:\n",
    "        print(arr[current],end=\" \")\n",
    "if __name__==\"__main__\":\n",
    "    arr=[9,8,7,6,5,4]\n",
    "    print(\"input \",arr)\n",
    "    current = 0\n",
    "    recursion(arr,current)\n"
   ]
  },
  {
   "cell_type": "markdown",
   "metadata": {},
   "source": [
    "##### Date 10/04/2020: Longest substring without repeating characters.\n",
    "Example 1:\n",
    "Input :\"abcabcbb\"\n",
    "Output : 3\n",
    "Explanation : \"abc\"\n",
    "\n",
    "Example 2:\n",
    "Input : \"bbbbb\"\n",
    "Output : 1\n",
    "Explannation : \"b\"\n",
    "\n",
    "Example 3:\n",
    "Input : \"pwwkew\"\n",
    "Output : 3\n",
    "Exaplanation : \"wke\"\n",
    "\"pwke\" is not accepted\n",
    "\n",
    "Example 4:\n",
    "Input: \"super\"\n",
    "Output: 5\n",
    "\n"
   ]
  },
  {
   "cell_type": "code",
   "execution_count": 34,
   "metadata": {},
   "outputs": [
    {
     "name": "stdout",
     "output_type": "stream",
     "text": [
      "3\n"
     ]
    }
   ],
   "source": [
    "#O(N^3)\n",
    "def all_distinct(s,i,j):\n",
    "    seen=[0]*26 #---> [False]*26\n",
    "    for k in range(i,j+1):\n",
    "        \n",
    "        if (seen[ord(s[k]) - ord('a')] == True):\n",
    "            return False\n",
    "        else:\n",
    "            seen[ord(s[k]) - ord('a')]= True\n",
    "    return True\n",
    "            \n",
    "            \n",
    "    \n",
    "def longest_substring():\n",
    "    s = \"abcabcbb\"\n",
    "    result = 0\n",
    "    n=len(s)\n",
    "    for i in range(n): \n",
    "        for j in range(i,n):\n",
    "            if (all_distinct(s,i,j)):\n",
    "                result = max(result,j-i+1)\n",
    "    return result\n",
    "            \n",
    "if __name__==\"__main__\":\n",
    "    print(longest_substring() )       \n",
    "        \n",
    "    "
   ]
  },
  {
   "cell_type": "code",
   "execution_count": 35,
   "metadata": {},
   "outputs": [
    {
     "name": "stdout",
     "output_type": "stream",
     "text": [
      "3\n"
     ]
    }
   ],
   "source": [
    "#sliding window --> Whenever we see repitition, we remove the pervious occurrance and slide the window.\n",
    "#time complexity: O(N^2)\n",
    "def longest_substring():\n",
    "    s = \"abcabcbb\"\n",
    "    result = 0\n",
    "    n=len(s)\n",
    "    seen=[0]*256\n",
    "    for i in range(n): \n",
    "        for j in range(i,n):\n",
    "            if seen[ord(s[j])]==True:\n",
    "                break\n",
    "            else:\n",
    "                result = max(result, j - i + 1) \n",
    "                seen[ord(s[j])] = True\n",
    "        seen[ord(s[i])] = False\n",
    "            \n",
    "    return result\n",
    "            \n",
    "if __name__==\"__main__\":\n",
    "    print(longest_substring()) \n"
   ]
  },
  {
   "cell_type": "code",
   "execution_count": 36,
   "metadata": {},
   "outputs": [
    {
     "name": "stdout",
     "output_type": "stream",
     "text": [
      "3\n"
     ]
    }
   ],
   "source": [
    "def longest_substring():\n",
    "#O(N)\n",
    "    s = \"abcabcbb\"\n",
    "    i=0\n",
    "    j=0\n",
    "    maximum=0\n",
    "    seen =set() #empty set\n",
    "    while j<len(s):\n",
    "        if s[j] not in seen:\n",
    "            seen.add(s[j])\n",
    "            j+=1\n",
    "            maximum=max(maximum,len(seen))\n",
    "        else:\n",
    "            seen.remove(s[i])\n",
    "            i+=1\n",
    "\n",
    "    return maximum\n",
    "if __name__==\"__main__\":\n",
    "    print(longest_substring()) "
   ]
  },
  {
   "cell_type": "markdown",
   "metadata": {},
   "source": [
    "##### Date 10/04/2020:Given an array of values, display first element, skip next two, display next three, skip next four ....\n",
    "input : 1,2,3,4,5,6,7,8,9,10,11,12,13,14,15\n",
    "output: 1,4,5,6,11,12,13,14,15\n"
   ]
  },
  {
   "cell_type": "code",
   "execution_count": 4,
   "metadata": {},
   "outputs": [
    {
     "name": "stdout",
     "output_type": "stream",
     "text": [
      "1,4,5,6,11,12,13,14,15,22,23,24,25,26,27,28,None\n"
     ]
    }
   ],
   "source": [
    "def skipOddKeepEven():\n",
    "    arr=[1,2,3,4,5,6,7,8,9,10,11,12,13,14,15,16,17,18,19,20,21,22,23,24,25,26,27,28]\n",
    "    \n",
    "    i=0\n",
    "    j=0\n",
    "    k=0\n",
    "    while j<len(arr):\n",
    "        #if difference even in indexes\n",
    "        if (j-i)%2==0:\n",
    "            for index in range(i,j+1):\n",
    "                print(arr[index],end=',')\n",
    "        else:\n",
    "            for index in range(i,j):\n",
    "                continue\n",
    "                \n",
    "        k=k+1\n",
    "        i=i+k\n",
    "        j=i+k\n",
    "        \n",
    "if __name__==\"__main__\":\n",
    "    print(skipOddKeepEven())"
   ]
  },
  {
   "cell_type": "markdown",
   "metadata": {},
   "source": [
    "#### Date 10/05/2020 Given an array of numbers and an integer ‘k’, you have to rotate the array ‘k’ times.\n",
    "One rotation operation moves the last array element to the first position and shifts all remaining elements right one. \n",
    "\n",
    "Eg:\n",
    "\n",
    "Input\n",
    "Arr = [1, 2, 3]  k=2\n",
    "\n",
    "Output:\n",
    "[2, 3, 1]\n",
    "\n",
    "Input\n",
    "Arr = [9, 8, 7,6]  k=4\n",
    "\n",
    "Output:\n",
    "[9, 8, 7, 6]\n"
   ]
  },
  {
   "cell_type": "code",
   "execution_count": 6,
   "metadata": {},
   "outputs": [
    {
     "name": "stdout",
     "output_type": "stream",
     "text": [
      "output [2, 3, 1]\n"
     ]
    }
   ],
   "source": [
    "def rotate(arr,k):\n",
    "#O(N*k) \n",
    "    for _ in range(k%len(arr)):               #O(k%n) actual rotation will be k%n only\n",
    "        #arr.insert(0,arr[-1])       #O(N)\n",
    "        #arr.pop()                   #O(1)\n",
    "        temp=arr[-1]\n",
    "        i=len(arr)-2\n",
    "        while i>=0:\n",
    "            arr[i+1]=arr[i]\n",
    "            i-=1\n",
    "        arr[0]=temp   \n",
    "            \n",
    "    return arr\n",
    "if __name__==\"__main__\":\n",
    "    k=2\n",
    "    arr = [1,2,3]\n",
    "    print(\"output\",rotate(arr,k))\n",
    "    "
   ]
  },
  {
   "cell_type": "code",
   "execution_count": 17,
   "metadata": {},
   "outputs": [
    {
     "name": "stdout",
     "output_type": "stream",
     "text": [
      "[2, 3, 1]\n"
     ]
    }
   ],
   "source": [
    "def rotate(arr,k):\n",
    "    #O(N)\n",
    "    k%=len(arr)\n",
    "    pos = 0\n",
    "    newStartIndex = len(arr)-k\n",
    "    new_arr=[]\n",
    "    new_arr=arr[newStartIndex:]\n",
    "    for i in range(newStartIndex):\n",
    "        new_arr.append(arr[i])\n",
    "    print(new_arr)\n",
    "if __name__==\"__main__\":\n",
    "    k=2\n",
    "    arr = [1,2,3]\n",
    "    rotate(arr,k)"
   ]
  },
  {
   "cell_type": "markdown",
   "metadata": {},
   "source": [
    "##### Date 10/06/2020 Given an array of nums of n integers where n>1, return an array output such that output[i] is equal to the product of all the elements of nums except nums[i]\n",
    "Input = [1,2,3,4]\n",
    "output = [24,12,8,6]"
   ]
  },
  {
   "cell_type": "code",
   "execution_count": 7,
   "metadata": {},
   "outputs": [
    {
     "name": "stdout",
     "output_type": "stream",
     "text": [
      "result 24\n",
      "[24, 12, 8, 6]\n"
     ]
    }
   ],
   "source": [
    "def product():\n",
    "    #O(2N)=O(N)\n",
    "    arr =[1,2,3,4]\n",
    "    result=1\n",
    "    for i in range(len(arr)):\n",
    "        result *= arr[i]\n",
    "    print(\"result\",result)\n",
    "    for i in range(len(arr)):\n",
    "        arr[i]=int(result/arr[i])\n",
    "    return arr\n",
    "if __name__==\"__main__\":\n",
    "    print(product())"
   ]
  },
  {
   "cell_type": "code",
   "execution_count": 1,
   "metadata": {},
   "outputs": [
    {
     "name": "stdout",
     "output_type": "stream",
     "text": [
      "[2, 0, 0]\n"
     ]
    }
   ],
   "source": [
    "def product():\n",
    "    #O(N^2)\n",
    "    arr =[0,1,2]\n",
    "    \n",
    "    i=0\n",
    "    new_arr=[0]*len(arr)    #new array of input array length\n",
    "    \n",
    "    while i<len(arr):      # i to len(arr)\n",
    "       \n",
    "        product=1\n",
    "        m=0\n",
    "        n=len(arr)\n",
    "        for k in range(m,i):  #0 to i-1\n",
    "            product*=arr[k]\n",
    "        for l in range(i+1,n):  #i+1 to len(arr)-1\n",
    "            product*=arr[l]\n",
    "            \n",
    "        new_arr[i]=product       #store product in new array\n",
    "        i+=1\n",
    "    return new_arr\n",
    "\n",
    "if __name__==\"__main__\":\n",
    "    print(product())"
   ]
  },
  {
   "cell_type": "code",
   "execution_count": 5,
   "metadata": {},
   "outputs": [
    {
     "name": "stdout",
     "output_type": "stream",
     "text": [
      "[2, 0, 0]\n"
     ]
    }
   ],
   "source": [
    "def productExceptSelf():\n",
    "    #O(N)\n",
    "    nums=[0,1,2]\n",
    "    zero_count=0\n",
    "    product=1\n",
    "    for i in range(len(nums)):\n",
    "        if nums[i]==0:\n",
    "            zero_count+=1\n",
    "            continue\n",
    "        else:\n",
    "            product *=nums[i]\n",
    "    for i in range(len(nums)):\n",
    "        if nums[i]==0:\n",
    "            if zero_count>1:\n",
    "                nums[i]=0\n",
    "            else:\n",
    "                nums[i]=product\n",
    "        else:\n",
    "            if zero_count >0:\n",
    "                nums[i]=0\n",
    "            else:\n",
    "                nums[i]=int(product/nums[i])\n",
    "        \n",
    "    return nums\n",
    "if __name__==\"__main__\":\n",
    "    print(productExceptSelf())"
   ]
  },
  {
   "cell_type": "markdown",
   "metadata": {},
   "source": [
    "##### Date 10/06/2020 Given a sorted array of integers, write a function that returns a sorted array containing the sqaures of those integers.\n",
    "Input = [-7,-3,-1,4,8,12]\n",
    "Output= [1,9,16,49,64,144]\n",
    "\n",
    "Input = [1,2,3]\n",
    "Output=[1,4,9]"
   ]
  },
  {
   "cell_type": "code",
   "execution_count": 17,
   "metadata": {},
   "outputs": [
    {
     "name": "stdout",
     "output_type": "stream",
     "text": [
      "[0, 9, 16, 49, 64, 144]\n"
     ]
    }
   ],
   "source": [
    "def sorted_squares():\n",
    "    arr =[-7,-3,-1,4,8,12] \n",
    "    \n",
    "    r=len(arr)-1\n",
    "    l=0\n",
    "    i=len(arr)-1\n",
    "    new_arr=[0]*len(arr)\n",
    "    while i>0:\n",
    "        if abs(arr[r])>= abs(arr[l]):\n",
    "            new_arr[i]=arr[r]*arr[r]\n",
    "            r-=1\n",
    "        elif abs(arr[r])< abs(arr[l]):\n",
    "            new_arr[i]=arr[l]*arr[l]\n",
    "            l+=1\n",
    "        i-=1\n",
    "            \n",
    "    \n",
    "    return new_arr\n",
    "if __name__==\"__main__\":\n",
    "    print(sorted_squares())"
   ]
  },
  {
   "cell_type": "code",
   "execution_count": null,
   "metadata": {},
   "outputs": [],
   "source": []
  }
 ],
 "metadata": {
  "kernelspec": {
   "display_name": "Python 3",
   "language": "python",
   "name": "python3"
  },
  "language_info": {
   "codemirror_mode": {
    "name": "ipython",
    "version": 3
   },
   "file_extension": ".py",
   "mimetype": "text/x-python",
   "name": "python",
   "nbconvert_exporter": "python",
   "pygments_lexer": "ipython3",
   "version": "3.7.6"
  }
 },
 "nbformat": 4,
 "nbformat_minor": 4
}

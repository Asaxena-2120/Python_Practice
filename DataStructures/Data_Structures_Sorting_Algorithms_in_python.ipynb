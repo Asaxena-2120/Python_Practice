{
 "cells": [
  {
   "cell_type": "markdown",
   "metadata": {},
   "source": [
    "Abstract Data types like arrays , linked lists, stack, queues.. - define data and operations but no implementation"
   ]
  },
  {
   "cell_type": "markdown",
   "metadata": {},
   "source": [
    "Linear Search - searching element in an Unsorted list \n",
    "\n",
    "Complexity -> O(n)"
   ]
  },
  {
   "cell_type": "markdown",
   "metadata": {},
   "source": [
    "Binary Search - Searching an element in sorted data.\n",
    "\n",
    " Complexity - O(log2 n)"
   ]
  },
  {
   "cell_type": "markdown",
   "metadata": {},
   "source": [
    "1. SELECTION SORT"
   ]
  },
  {
   "cell_type": "code",
   "execution_count": 43,
   "metadata": {},
   "outputs": [
    {
     "name": "stdout",
     "output_type": "stream",
     "text": [
      "Original unsorted list for selection sort [2, 3, 5, 1, 7, 6]\n",
      "The sorted list using selection sort is  [1, 2, 3, 5, 6, 7]\n"
     ]
    }
   ],
   "source": [
    "#Complexity - O(n^2)\n",
    "def selection_sort(nums):\n",
    "    n= len(nums)\n",
    "    # we need to run loop from 0 index to n-1 elemnet only\n",
    "    for i in range(n-1): #--> (n-1)\n",
    "        imin=i # consider 1st index is minimum\n",
    "        for j in range(i+1,n):\n",
    "            if nums[j]<nums[imin]:  #-->n(n-1)/2\n",
    "                imin=j\n",
    "        temp = nums[i]      #-->(n-1)\n",
    "        nums[i]=nums[imin]\n",
    "        nums[imin]=temp\n",
    "    return nums\n",
    "\n",
    "#driver code\n",
    "if __name__ == '__main__':\n",
    "    my_list= [2,3,5,1,7,6]\n",
    "    print('Original unsorted list for selection sort',my_list)\n",
    "    result = selection_sort(my_list)\n",
    "    print('The sorted list using selection sort is ',result)\n",
    "    \n",
    "        "
   ]
  },
  {
   "cell_type": "markdown",
   "metadata": {},
   "source": [
    "2. BUBBLE SORT"
   ]
  },
  {
   "cell_type": "code",
   "execution_count": 44,
   "metadata": {},
   "outputs": [
    {
     "name": "stdout",
     "output_type": "stream",
     "text": [
      "Original unsorted list for bubble sort is  [1, 2, 3, 5, 1, 7, 6]\n",
      "The sorted list using bubble sort is  [1, 1, 2, 3, 5, 6, 7]\n"
     ]
    }
   ],
   "source": [
    "#Complexity - O(n^2)\n",
    "def bubble_sort(nums):\n",
    "    n=len(nums)\n",
    "    for j in range(n):\n",
    "        for i in range(n-1): #this loop is only responsible for putting the largest number at the end of list\n",
    "            if nums[i]>nums[i+1]:\n",
    "                temp=nums[i+1]\n",
    "                nums[i+1]=nums[i]\n",
    "                nums[i]=temp\n",
    "    return nums\n",
    "\n",
    "#driver code\n",
    "if __name__ == '__main__':\n",
    "    my_list= [1,2,3,5,1,7,6]\n",
    "    print('Original unsorted list for bubble sort is ',my_list)\n",
    "    result = bubble_sort(my_list)\n",
    "    print('The sorted list using bubble sort is ',result)\n"
   ]
  },
  {
   "cell_type": "markdown",
   "metadata": {},
   "source": [
    "3. Insertion Sort"
   ]
  },
  {
   "cell_type": "code",
   "execution_count": 45,
   "metadata": {},
   "outputs": [
    {
     "name": "stdout",
     "output_type": "stream",
     "text": [
      "Original unsorted list for insertion sort is  [1, 2, 3, 5, 0, 7, 6]\n",
      "The sorted list using insertion sort is  [0, 1, 2, 3, 5, 6, 7]\n"
     ]
    }
   ],
   "source": [
    "#Complexity if input list is sorted - O(n) -> while loop will never be executed\n",
    "#complexity for unsorted array-> (n-1)+n(n-1)/2 = o(n^2)\n",
    "# but this is better than selection and bubble is better becaus eno. of comparisons are less\n",
    "def insertion_sort(nums):\n",
    "    n=len(nums)\n",
    "    for i in range(1,n):\n",
    "        value =nums[i]\n",
    "        insert_index=i\n",
    "        while insert_index>0 and nums[insert_index-1]>value:\n",
    "            nums[insert_index]=nums[insert_index-1]\n",
    "            insert_index=insert_index-1\n",
    "        nums[insert_index]=value\n",
    "    return nums\n",
    "\n",
    "#driver code\n",
    "if __name__ == '__main__':\n",
    "    my_list= [1,2,3,5,0,7,6]\n",
    "    print('Original unsorted list for insertion sort is ',my_list)\n",
    "    result = insertion_sort(my_list)\n",
    "    print('The sorted list using insertion sort is ',result)    "
   ]
  },
  {
   "cell_type": "markdown",
   "metadata": {},
   "source": [
    "4. Merge Sort"
   ]
  },
  {
   "cell_type": "code",
   "execution_count": 46,
   "metadata": {},
   "outputs": [
    {
     "name": "stdout",
     "output_type": "stream",
     "text": [
      "Original unsorted list for merge sort is  [1, 2, 3, 5, 0, 7, 6]\n",
      "The sorted list using merge sort is  [0, 1, 2, 3, 5, 6, 7]\n"
     ]
    }
   ],
   "source": [
    "#Complexity - O(nlogn)\n",
    "# merging two sorted lists -> 1,2,,4,6 + 3,5,7,8 = 1,2,3,4,5,6,7,8\n",
    "# it is a divide and conquer algorithm\n",
    "# it is recursive algorithm\n",
    "# can be used to sort complex records , is a stable sorting algorithm\n",
    "# it takes extra memory depending upon input length\n",
    "\n",
    "def merge_sort(nums):\n",
    "    n=len(nums)\n",
    "    \n",
    "    if n<2:\n",
    "        return\n",
    "    else:\n",
    "        \n",
    "        mid=n//2\n",
    "        left = nums[:mid] \n",
    "        right =nums[mid:]\n",
    "        merge_sort(left)\n",
    "        merge_sort(right)\n",
    "        nl=len(left)\n",
    "        nr=len(right)\n",
    "        i=j=k=0\n",
    "        while i<nl and j<nr:\n",
    "            if left[i]<=right[j]:\n",
    "                nums[k]=left[i]\n",
    "                i+=1\n",
    "            else:\n",
    "                nums[k]=right[i]\n",
    "                j+=1\n",
    "            k+=1\n",
    "        while i<nl:\n",
    "            nums[k]=left[i]\n",
    "            i+=1\n",
    "            k+=1\n",
    "        while j<nr:\n",
    "            nums[k]=right[j]\n",
    "            j+=1\n",
    "            k+=1\n",
    "\n",
    "    return nums\n",
    "    \n",
    "#driver code\n",
    "if __name__ == '__main__':\n",
    "    my_list= [1,2,3,5,0,7,6]\n",
    "    print('Original unsorted list for merge sort is ',my_list)\n",
    "    result = merge_sort(my_list)\n",
    "    print('The sorted list using merge sort is ',result)\n",
    "    "
   ]
  },
  {
   "cell_type": "markdown",
   "metadata": {},
   "source": [
    "5. Quick Sort"
   ]
  },
  {
   "cell_type": "code",
   "execution_count": 47,
   "metadata": {},
   "outputs": [
    {
     "name": "stdout",
     "output_type": "stream",
     "text": [
      "Original unsorted list for quick sort is  [1, 2, 3, 5, 0, 7, 6]\n",
      "The sorted list using quick sort is  [1, 2, 3, 5, 0, 7, 6]\n"
     ]
    }
   ],
   "source": [
    "# Most efficient algorithm for sorting\n",
    "#Complexity -> O(n^2)\n",
    "def quick_sort(nums):\n",
    "    #todo\n",
    "    return nums\n",
    "#driver code\n",
    "if __name__ == '__main__':\n",
    "    my_list= [1,2,3,5,0,7,6]\n",
    "    print('Original unsorted list for quick sort is ',my_list)\n",
    "    result = quick_sort(my_list)\n",
    "    print('The sorted list using quick sort is ',result)"
   ]
  },
  {
   "cell_type": "code",
   "execution_count": null,
   "metadata": {},
   "outputs": [],
   "source": []
  },
  {
   "cell_type": "code",
   "execution_count": null,
   "metadata": {},
   "outputs": [],
   "source": []
  },
  {
   "cell_type": "code",
   "execution_count": null,
   "metadata": {},
   "outputs": [],
   "source": []
  }
 ],
 "metadata": {
  "kernelspec": {
   "display_name": "Python 3",
   "language": "python",
   "name": "python3"
  },
  "language_info": {
   "codemirror_mode": {
    "name": "ipython",
    "version": 3
   },
   "file_extension": ".py",
   "mimetype": "text/x-python",
   "name": "python",
   "nbconvert_exporter": "python",
   "pygments_lexer": "ipython3",
   "version": "3.7.6"
  }
 },
 "nbformat": 4,
 "nbformat_minor": 4
}

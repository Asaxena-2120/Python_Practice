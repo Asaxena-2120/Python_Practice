{
 "cells": [
  {
   "cell_type": "markdown",
   "metadata": {},
   "source": [
    "Problem: getting all digits from decimal number"
   ]
  },
  {
   "cell_type": "code",
   "execution_count": 1,
   "metadata": {},
   "outputs": [],
   "source": [
    "def get_digits(n):\n",
    "    list_result=[]\n",
    "    while n>0:\n",
    "        rem=n%10\n",
    "        list_result.append((rem))\n",
    "        n=n//10 # we stop when we get 0 in the quotient # floor division gives int part of quotient\n",
    "    print(\"digits form right to left -> \", list_result)\n",
    "    print(\"digits from left to right are ->\", list_result[::-1])"
   ]
  },
  {
   "cell_type": "code",
   "execution_count": 2,
   "metadata": {},
   "outputs": [
    {
     "name": "stdout",
     "output_type": "stream",
     "text": [
      "digits form right to left ->  [3, 3, 0, 9, 8, 7, 9, 1]\n",
      "digits from left to right are -> [1, 9, 7, 8, 9, 0, 3, 3]\n"
     ]
    }
   ],
   "source": [
    "get_digits(19789033)"
   ]
  },
  {
   "cell_type": "markdown",
   "metadata": {},
   "source": [
    "Problem: getting all digits from decimal in binary number or decimal to binary"
   ]
  },
  {
   "cell_type": "code",
   "execution_count": 3,
   "metadata": {},
   "outputs": [],
   "source": [
    "def get_digits_binary(n):\n",
    "    print(\"using python function to directly convert to binary ->\",bin(n).replace(\"0b\",\"\")) \n",
    "    list_result=[]\n",
    "    while n>0:\n",
    "        rem=n%2\n",
    "        list_result.append((rem))\n",
    "        n=n//2 # we stop when we get 0 in the quotient # floor division gives int part of quotient\n",
    "    print(\"digits form right to left -> \", list_result)\n",
    "    print(\"digits from left to right are ->\", list_result[::-1])\n",
    "    "
   ]
  },
  {
   "cell_type": "code",
   "execution_count": 4,
   "metadata": {},
   "outputs": [
    {
     "name": "stdout",
     "output_type": "stream",
     "text": [
      "using python function to directly convert to binary -> 1111101\n",
      "digits form right to left ->  [1, 0, 1, 1, 1, 1, 1]\n",
      "digits from left to right are -> [1, 1, 1, 1, 1, 0, 1]\n"
     ]
    }
   ],
   "source": [
    "get_digits_binary(125)"
   ]
  },
  {
   "cell_type": "markdown",
   "metadata": {},
   "source": [
    "Problem: getting all digits from decimal to any base 'b'"
   ]
  },
  {
   "cell_type": "code",
   "execution_count": 5,
   "metadata": {},
   "outputs": [],
   "source": [
    "def get_digits_base(n,b): #n is decimal\n",
    "    list_result=[]\n",
    "    while n>0:\n",
    "        rem=n%b\n",
    "        list_result.append((rem))\n",
    "        n=n//b # we stop when we get 0 in the quotient # floor division gives int part of quotient\n",
    "    print(\"digits form right to left -> \", list_result)\n",
    "    print(\"digits from left to right are ->\", list_result[::-1])"
   ]
  },
  {
   "cell_type": "code",
   "execution_count": 6,
   "metadata": {},
   "outputs": [
    {
     "name": "stdout",
     "output_type": "stream",
     "text": [
      "digits form right to left ->  [5, 7, 1]\n",
      "digits from left to right are -> [1, 7, 5]\n"
     ]
    }
   ],
   "source": [
    "get_digits_base(125,8)"
   ]
  },
  {
   "cell_type": "markdown",
   "metadata": {},
   "source": [
    "Problem : Convert number from base 2 (binary) to decimal"
   ]
  },
  {
   "cell_type": "code",
   "execution_count": 7,
   "metadata": {},
   "outputs": [],
   "source": [
    "def get_digits_decimal(n): \n",
    "    print (\"direct method to convert binary to decimal ->\", int(str(n),2)) # direct method (n should be string for int())\n",
    "    # indirect method\n",
    "    number=0\n",
    "    i=0\n",
    "    while n>0:\n",
    "        rem= n%10 # to get the right most digit\n",
    "        number+= rem * pow(2,i)\n",
    "        n=n//10\n",
    "        i+=1\n",
    "    print(\"actual method -> \", number)\n",
    "        \n",
    "    "
   ]
  },
  {
   "cell_type": "code",
   "execution_count": 8,
   "metadata": {},
   "outputs": [
    {
     "name": "stdout",
     "output_type": "stream",
     "text": [
      "direct method to convert binary to decimal -> 125\n",
      "actual method ->  125\n"
     ]
    }
   ],
   "source": [
    "get_digits_decimal(1111101)"
   ]
  },
  {
   "cell_type": "markdown",
   "metadata": {},
   "source": [
    "Problem : Convert number from any base 'b' to decimal"
   ]
  },
  {
   "cell_type": "code",
   "execution_count": 9,
   "metadata": {},
   "outputs": [],
   "source": [
    "def get_digits_decimal_from_any_base(n,b): #n is binary string\n",
    "    print (\"direct method to convert base b to decimal ->\", int(str(n),b)) # direct method (n should be string for int())\n",
    "    # indirect method\n",
    "    number=0\n",
    "    i=0\n",
    "    while n>0:\n",
    "        rem= n%10 # to get the right most digit\n",
    "        number+= rem * pow(b,i)\n",
    "        n=n//10\n",
    "        i+=1\n",
    "    print(\"actual method -> \", number)"
   ]
  },
  {
   "cell_type": "code",
   "execution_count": 10,
   "metadata": {},
   "outputs": [
    {
     "name": "stdout",
     "output_type": "stream",
     "text": [
      "direct method to convert base b to decimal -> 125\n",
      "actual method ->  125\n"
     ]
    }
   ],
   "source": [
    "get_digits_decimal_from_any_base(175,8) # example: converting from octal to decimal"
   ]
  },
  {
   "cell_type": "markdown",
   "metadata": {},
   "source": [
    "Problem : check if a number is PRIME or NOT (all the below are trial division method)"
   ]
  },
  {
   "cell_type": "code",
   "execution_count": 11,
   "metadata": {},
   "outputs": [],
   "source": [
    "##Approach no# 1\n",
    "# This method is for small numbers and is basic approach\n",
    "# Output - return 0 if prime else -1\n",
    "#Complexity -> O(n)\n",
    "'''\n",
    "for a number to be prime it should only have two factors 1 and the number itself\n",
    "'''\n",
    "\n",
    "def is_prime_basic(n):\n",
    "    \n",
    "    # n <=1 can never be prime numbers\n",
    "    if n <2:\n",
    "        print(n , \"is less than 2 so cannot be prime number\")\n",
    "        return -1\n",
    "    else:\n",
    "        for i in range(2,n): # loop goes from 2 to n-1\n",
    "            if n%i==0:\n",
    "                print(n, \"is not prime number\")\n",
    "                return -1\n",
    "    print (n, \"is a prime number\")\n",
    "    return 0\n",
    "      "
   ]
  },
  {
   "cell_type": "code",
   "execution_count": null,
   "metadata": {},
   "outputs": [],
   "source": [
    "\n"
   ]
  },
  {
   "cell_type": "code",
   "execution_count": 12,
   "metadata": {},
   "outputs": [],
   "source": [
    "#Approach no# 2\n",
    "# Complexity -> O(n/2) =O(n)\n",
    "'''\n",
    "There cannot be a factor of a integer number n, other than n itself which is greater than n/2\n",
    "'''\n",
    "def is_prime_half(n):\n",
    "    \n",
    "    # n <=1 can never be prime numbers\n",
    "    if n <2:\n",
    "        print(n , \"is less than 2 so cannot be prime number\")\n",
    "        return -1\n",
    "    else:\n",
    "        for i in range(2,n//2+1): # loop goes from 2 to n/2\n",
    "            if n%i==0:\n",
    "                print(n, \"is not prime number\")\n",
    "                return -1\n",
    "    print (n, \"is a prime number\")\n",
    "    return 0"
   ]
  },
  {
   "cell_type": "code",
   "execution_count": 13,
   "metadata": {},
   "outputs": [
    {
     "name": "stdout",
     "output_type": "stream",
     "text": [
      "23 is a prime number\n"
     ]
    },
    {
     "data": {
      "text/plain": [
       "0"
      ]
     },
     "execution_count": 13,
     "metadata": {},
     "output_type": "execute_result"
    }
   ],
   "source": [
    "is_prime_half(23)"
   ]
  },
  {
   "cell_type": "code",
   "execution_count": 14,
   "metadata": {},
   "outputs": [
    {
     "name": "stdout",
     "output_type": "stream",
     "text": [
      "0\n"
     ]
    }
   ],
   "source": [
    "#Approach # 3 \n",
    "#complexity -> O(sqrt(n))\n",
    "'''\n",
    "factors of an integer greater than 1 always exists in pairs.\n",
    "\n",
    "Example: 36 = {1,36}, {2,18}, {3,12}, {4,9}, {6,6}, {9,4}, {12,3}, {18,2}, {36,1}\n",
    "\n",
    "we see after 6,6 cofactor pairs starts repeating itself. Therefore:(a and b being factors of n)\n",
    "1. if n is perfect square a=b => a^2 =n => a=n^(1/2)\n",
    "2. if n is not a perfect square:\n",
    "     a. if a>b => a>n^(1/2) and b<n^(1/2)\n",
    "     b. if b>a => b>n^(1/2) and a<n^(1/2)\n",
    "     \n",
    "Conclusion: If we do not get a factor of n till sqrt(n), we will never get a factor of n greater than sqrt(n)\n",
    "and this will be helpful for large numbers because sqrt(n)<<< n/2 <<n\n",
    "\n",
    "'''\n",
    "import time\n",
    "import math\n",
    "def is_prime_sqrt(n):\n",
    "    \n",
    "    # n <=1 can never be prime numbers\n",
    "    if n <2:\n",
    "        #print(n , \"is less than 2 so cannot be prime number\")\n",
    "        return -1\n",
    "    else:\n",
    "        for i in range(2,int(math.sqrt(n))+1): # loop goes from 2 to n/2\n",
    "            if n%i==0:\n",
    "                #print(n, \"is not prime number\")\n",
    "                return -1\n",
    "    #print (n, \"is a prime number\")\n",
    "    return 0\n",
    "if __name__=='__main__':\n",
    "   \n",
    "    n = 23\n",
    "    result =is_prime_sqrt(n)\n",
    "    \n",
    "    print(result)\n",
    "    "
   ]
  },
  {
   "cell_type": "code",
   "execution_count": 15,
   "metadata": {},
   "outputs": [
    {
     "data": {
      "text/plain": [
       "0"
      ]
     },
     "execution_count": 15,
     "metadata": {},
     "output_type": "execute_result"
    }
   ],
   "source": [
    "is_prime_sqrt(13)"
   ]
  },
  {
   "cell_type": "markdown",
   "metadata": {},
   "source": [
    "Problem : Find all the prime numbers upto n"
   ]
  },
  {
   "cell_type": "code",
   "execution_count": 16,
   "metadata": {},
   "outputs": [],
   "source": [
    "#Approach #1-> regular method\n",
    "#Complexity -> O(n*sqrt(n))\n",
    "\n",
    "def find_primes(n):\n",
    "    list_of_primes=[]\n",
    "    for i in range(2, n+1):\n",
    "        if is_prime_sqrt(i)==0:\n",
    "            list_of_primes.append(i)\n",
    "    print('sum of primes between 0 to', n,'is', sum(list_of_primes))\n",
    "    return sum(list_of_primes)"
   ]
  },
  {
   "cell_type": "code",
   "execution_count": 17,
   "metadata": {},
   "outputs": [
    {
     "name": "stdout",
     "output_type": "stream",
     "text": [
      "sum of primes between 0 to 10 is 17\n"
     ]
    },
    {
     "data": {
      "text/plain": [
       "17"
      ]
     },
     "execution_count": 17,
     "metadata": {},
     "output_type": "execute_result"
    }
   ],
   "source": [
    "find_primes(10)"
   ]
  },
  {
   "cell_type": "code",
   "execution_count": 18,
   "metadata": {},
   "outputs": [],
   "source": [
    "#Approach #2: Seive of Eratosthenes\n",
    "# Complexity -> O(n.log(log(n)))\n",
    "'''\n",
    "step 1: create a list of all the numbers from 2 to n and we say that all of them are primes\n",
    "step 2: start with 2, so we say that if 2 is prime then all the multiples of 2 in that list are not prime, and remove them from our list\n",
    "so remove 2,4,6,....\n",
    "# step 3: now check 3 if it prime, and remove all multiples of 3 like 6,9...\n",
    "# repeating these steps result in final list of prime numers between 2 to n\n",
    "'''\n",
    "import math\n",
    "def primes_soe(n):\n",
    "    primes=[]\n",
    "    my_final_list=[]\n",
    " \n",
    "    for k in range(n+1):\n",
    "        primes.append(1) \n",
    "        # if primes[i]=1 => i is prime else not prime\n",
    "        #primes[k] = 1 # so initially all the numbers from 0 to n are prime\n",
    "    # but we know 0 and 1 are not prime\n",
    "    primes[0]=0\n",
    "    primes[1]=0\n",
    "    for i in range(2,n+1):\n",
    "        if primes[i]==1:\n",
    "            for j in range(i*2,n+1, i):\n",
    "                primes[j]=0\n",
    "        \n",
    "    print(primes)   \n",
    "    for i in range(n+1):\n",
    "        if primes[i]==1:\n",
    "            my_final_list.append(i)\n",
    "    return sum(my_final_list)"
   ]
  },
  {
   "cell_type": "code",
   "execution_count": 19,
   "metadata": {},
   "outputs": [
    {
     "name": "stderr",
     "output_type": "stream",
     "text": [
      "IOPub data rate exceeded.\n",
      "The notebook server will temporarily stop sending output\n",
      "to the client in order to avoid crashing it.\n",
      "To change this limit, set the config variable\n",
      "`--NotebookApp.iopub_data_rate_limit`.\n",
      "\n",
      "Current values:\n",
      "NotebookApp.iopub_data_rate_limit=1000000.0 (bytes/sec)\n",
      "NotebookApp.rate_limit_window=3.0 (secs)\n",
      "\n"
     ]
    },
    {
     "data": {
      "text/plain": [
       "142913828922"
      ]
     },
     "execution_count": 19,
     "metadata": {},
     "output_type": "execute_result"
    }
   ],
   "source": [
    "primes_soe(2000000)"
   ]
  },
  {
   "cell_type": "markdown",
   "metadata": {},
   "source": [
    "#Problem : Find all factors of a number"
   ]
  },
  {
   "cell_type": "code",
   "execution_count": 20,
   "metadata": {},
   "outputs": [
    {
     "name": "stdout",
     "output_type": "stream",
     "text": [
      "[2, 4, 5, 10]\n"
     ]
    }
   ],
   "source": [
    "# Apporach 1: Complexity -> O(n)\n",
    "def all_factors(n):\n",
    "    factors_list=[]\n",
    "    for i in range(2,n//2+1):\n",
    "        if n%i ==0:\n",
    "            factors_list.append(i)\n",
    "    print( factors_list)\n",
    "\n",
    "# driver code\n",
    "if __name__=='__main__':\n",
    "    n=20\n",
    "    all_factors(n)\n",
    "    "
   ]
  },
  {
   "cell_type": "code",
   "execution_count": 21,
   "metadata": {},
   "outputs": [
    {
     "name": "stdout",
     "output_type": "stream",
     "text": [
      "[2, 18, 3, 12, 4, 9, 6]\n"
     ]
    }
   ],
   "source": [
    "# Apporach 2: Complexity -> O(sqrt(n))\n",
    "def all_factors(n):\n",
    "    factors_list=[]\n",
    "    for i in range(2,int(math.sqrt(n))+1):\n",
    "        if n%i ==0:\n",
    "            factors_list.append(i) # if i is a facto of n than n/i will also be a factor of n\n",
    "            if i != int(math.sqrt(n)): #if n is a sqrt of some number, that factor should be included one time eg. n=36\n",
    "                \n",
    "                factors_list.append(n//i)\n",
    "    print( factors_list)\n",
    "\n",
    "# driver code\n",
    "if __name__=='__main__':\n",
    "    n=36\n",
    "    all_factors(n)\n",
    "    "
   ]
  },
  {
   "cell_type": "markdown",
   "metadata": {},
   "source": [
    "#Problem: prime factorization of a number eg. 24 = 2 * 2 * 2 * 3 -> written only in the multiples of prime factors there is only one way to do prime factorization of a number\n",
    "    "
   ]
  },
  {
   "cell_type": "code",
   "execution_count": 22,
   "metadata": {},
   "outputs": [
    {
     "name": "stdout",
     "output_type": "stream",
     "text": [
      "{2: 3, 5: 3}\n"
     ]
    }
   ],
   "source": [
    "# Complexity-> O(n)-> taking worst case means that for loop will run till n i.e from 2 to n all are needed prime numbers\n",
    "# and while runs only once\n",
    "# all we need to know prime factors and frequency of each prime factor\n",
    "def prime_factorization(n):\n",
    "    count={}\n",
    "    for i in range(2,n+1):\n",
    "        if n%i==0:\n",
    "            count[i]=0\n",
    "            while n%i==0:\n",
    "                n=n/i\n",
    "                count[i]+=1\n",
    "    print(count)\n",
    "if __name__=='__main__':\n",
    "    n=1000\n",
    "    prime_factorization(n)"
   ]
  },
  {
   "cell_type": "markdown",
   "metadata": {},
   "source": [
    "Euclids Algorithm: fastest way to compute GCD(greatest common divisor) of a number\n",
    "gcd(a,b)=the greatest number that divides both a and b   "
   ]
  },
  {
   "cell_type": "code",
   "execution_count": 23,
   "metadata": {},
   "outputs": [],
   "source": [
    "'''\n",
    "Approach #1\n",
    "complexity -> O(log b) -b is smaller number between a and b\n",
    "a=210 and b=45\n",
    "Divide 210 by 45, and get the result 4 with remainder 30, so 210=4·45+30.\n",
    "Divide 45 by 30, and get the result 1 with remainder 15, so 45=1·30+15.\n",
    "Divide 30 by 15, and get the result 2 with remainder 0, so 30=2·15+0.\n",
    "The greatest common divisor of 210 and 45 is 15.\n",
    "'''\n",
    "def euclid_gcd(a,b):\n",
    "    dividend = a if a>=b else b # O(1) \n",
    "    divisor = a if a<=b else b #O(1)\n",
    "    while not divisor == 0: # O(1)\n",
    "        remainder = dividend % divisor  # -|\n",
    "        dividend = divisor              #  |   O(1)+O(1)+O(1) =x\n",
    "        divisor = remainder             # -|\n",
    "    return dividend #O(1)\n",
    "\n",
    "#O(3*O(1) +(number of digits of smaller number times)x +O(1))= O(digits of b)\n",
    "#=O(log b)\n",
    "#= O(log b)\n"
   ]
  },
  {
   "cell_type": "code",
   "execution_count": 24,
   "metadata": {},
   "outputs": [
    {
     "data": {
      "text/plain": [
       "15"
      ]
     },
     "execution_count": 24,
     "metadata": {},
     "output_type": "execute_result"
    }
   ],
   "source": [
    "euclid_gcd(210,45)"
   ]
  },
  {
   "cell_type": "code",
   "execution_count": 25,
   "metadata": {},
   "outputs": [],
   "source": [
    "'''\n",
    "Approach #2\n",
    "complexity -> O(log b) -b is smaller number between a and b\n",
    "\n",
    "'''\n",
    "def euclid_gcd_direct_assign(a,b):\n",
    "    dividend = a # O(1) \n",
    "    divisor = b #O(1)\n",
    "    while not divisor == 0: # O(1)\n",
    "        remainder = dividend % divisor  # -|\n",
    "        dividend = divisor              #  |   O(1)+O(1)+O(1)+O(1) =x\n",
    "        divisor = remainder             # -|\n",
    "    return dividend #O(1)\n",
    "\n",
    "#O(3*O(1) +(number of digits of smaller number times)x +1 +O(1))= O(digits of b)\n",
    "#=O(log b)\n",
    "#= O(log b)"
   ]
  },
  {
   "cell_type": "code",
   "execution_count": 26,
   "metadata": {},
   "outputs": [
    {
     "data": {
      "text/plain": [
       "15"
      ]
     },
     "execution_count": 26,
     "metadata": {},
     "output_type": "execute_result"
    }
   ],
   "source": [
    "euclid_gcd_direct_assign(210,45)"
   ]
  },
  {
   "cell_type": "code",
   "execution_count": null,
   "metadata": {},
   "outputs": [],
   "source": []
  },
  {
   "cell_type": "code",
   "execution_count": null,
   "metadata": {},
   "outputs": [],
   "source": []
  }
 ],
 "metadata": {
  "kernelspec": {
   "display_name": "Python 3",
   "language": "python",
   "name": "python3"
  },
  "language_info": {
   "codemirror_mode": {
    "name": "ipython",
    "version": 3
   },
   "file_extension": ".py",
   "mimetype": "text/x-python",
   "name": "python",
   "nbconvert_exporter": "python",
   "pygments_lexer": "ipython3",
   "version": "3.7.6"
  }
 },
 "nbformat": 4,
 "nbformat_minor": 4
}
